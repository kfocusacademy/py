{
 "cells": [
  {
   "cell_type": "markdown",
   "id": "0e95352f-d7d6-43e5-90ed-14a876a973eb",
   "metadata": {},
   "source": [
    "# Data Strcutures"
   ]
  },
  {
   "cell_type": "markdown",
   "id": "8f78c5d7-5f3b-4222-824d-9d5ea56e6666",
   "metadata": {},
   "source": [
    "## Lists"
   ]
  },
  {
   "cell_type": "code",
   "execution_count": 9,
   "id": "4a5333b0-5218-4b76-931e-94fd32c0c08b",
   "metadata": {},
   "outputs": [
    {
     "name": "stdout",
     "output_type": "stream",
     "text": [
      "[1, 2, 3, 4]\n"
     ]
    }
   ],
   "source": [
    "my_List=[1,2,3,4] \n",
    "print (my_List)"
   ]
  },
  {
   "cell_type": "code",
   "execution_count": 12,
   "id": "d71de8b4-bba6-4b42-b3ed-06578b468ea2",
   "metadata": {},
   "outputs": [
    {
     "name": "stdout",
     "output_type": "stream",
     "text": [
      "My\n"
     ]
    }
   ],
   "source": [
    "my_list = ['My','List']\n",
    "print(my_list[0])"
   ]
  },
  {
   "cell_type": "code",
   "execution_count": 21,
   "id": "808cd983-49db-4e9a-b661-3d0e95c7a45b",
   "metadata": {},
   "outputs": [
    {
     "name": "stdout",
     "output_type": "stream",
     "text": [
      "True\n"
     ]
    },
    {
     "data": {
      "text/plain": [
       "3"
      ]
     },
     "execution_count": 21,
     "metadata": {},
     "output_type": "execute_result"
    }
   ],
   "source": [
    "mixed_Array=[1,'text',True]\n",
    "print(mixed_Array[2])\n",
    "len(mixed_Array)"
   ]
  },
  {
   "cell_type": "code",
   "execution_count": 29,
   "id": "c1f426c0-f371-4f56-8136-1ceb42069d27",
   "metadata": {},
   "outputs": [
    {
     "name": "stdout",
     "output_type": "stream",
     "text": [
      "['My', 'List', 'new one', 'new one', 'new one']\n"
     ]
    }
   ],
   "source": [
    "my_list.append('new one')\n",
    "print(my_list)"
   ]
  },
  {
   "cell_type": "code",
   "execution_count": null,
   "id": "5a362810-ba3b-47cd-b8bd-61b219852bfb",
   "metadata": {},
   "outputs": [],
   "source": []
  },
  {
   "cell_type": "markdown",
   "id": "353e075f-432c-49a4-afd6-f2a9cef700ea",
   "metadata": {},
   "source": [
    "## Sets"
   ]
  },
  {
   "cell_type": "markdown",
   "id": "17a8dbe2-b42c-4511-974d-3867f66bcb7d",
   "metadata": {},
   "source": [
    "### Set is same as List with only difference that it should be unique "
   ]
  },
  {
   "cell_type": "code",
   "execution_count": 22,
   "id": "b36161f9-fc3c-4f73-a271-0c3905501ffa",
   "metadata": {},
   "outputs": [
    {
     "name": "stdout",
     "output_type": "stream",
     "text": [
      "{1, 2, 3}\n"
     ]
    }
   ],
   "source": [
    "my_set={1,2,3}\n",
    "print(my_set)"
   ]
  },
  {
   "cell_type": "code",
   "execution_count": 23,
   "id": "4e30e725-9365-4ce0-a835-77308bc7dcde",
   "metadata": {},
   "outputs": [
    {
     "data": {
      "text/plain": [
       "3"
      ]
     },
     "execution_count": 23,
     "metadata": {},
     "output_type": "execute_result"
    }
   ],
   "source": [
    "len(my_set)"
   ]
  },
  {
   "cell_type": "code",
   "execution_count": 24,
   "id": "6364f979-3c0f-4c56-8e17-a8d56f3f30c5",
   "metadata": {},
   "outputs": [
    {
     "data": {
      "text/plain": [
       "2"
      ]
     },
     "execution_count": 24,
     "metadata": {},
     "output_type": "execute_result"
    }
   ],
   "source": [
    "my_set={'a','b','a'}\n",
    "len(my_set)"
   ]
  },
  {
   "cell_type": "code",
   "execution_count": 26,
   "id": "13de492e-5006-4bb8-8602-67291ad4a4ce",
   "metadata": {},
   "outputs": [
    {
     "data": {
      "text/plain": [
       "True"
      ]
     },
     "execution_count": 26,
     "metadata": {},
     "output_type": "execute_result"
    }
   ],
   "source": [
    "{2,3,1}=={1,2,3}"
   ]
  },
  {
   "cell_type": "markdown",
   "id": "d8b55e93-1382-4a8e-9543-b26cad05250e",
   "metadata": {},
   "source": [
    "## Tuples"
   ]
  },
  {
   "cell_type": "code",
   "execution_count": 31,
   "id": "10ba5ea0-a8f6-4df2-9617-f1034d663bcd",
   "metadata": {},
   "outputs": [
    {
     "name": "stdout",
     "output_type": "stream",
     "text": [
      "(1, 2, 3)\n"
     ]
    }
   ],
   "source": [
    "my_tuple = (1,2,3)\n",
    "print(my_tuple)"
   ]
  },
  {
   "cell_type": "markdown",
   "id": "732b528a-12d1-4303-882d-baf31d71c627",
   "metadata": {},
   "source": [
    "#### List and Tuple is same, in List you can append, in tuple you can't\n",
    "Once Tuple is defined, it can't be modified "
   ]
  },
  {
   "cell_type": "markdown",
   "id": "f3203521-8d1f-4aab-943e-a2994103b4f6",
   "metadata": {},
   "source": [
    "## Dictionaries"
   ]
  },
  {
   "cell_type": "code",
   "execution_count": 35,
   "id": "10b69908-a5c4-42f3-93b5-415e18c73a7c",
   "metadata": {},
   "outputs": [
    {
     "data": {
      "text/plain": [
       "'Gives information'"
      ]
     },
     "execution_count": 35,
     "metadata": {},
     "output_type": "execute_result"
    }
   ],
   "source": [
    "my_dictionary = {'Book' : 'List of pages',\n",
    "                'Fruit' : 'Comes from a plant',\n",
    "                'Book' : 'Gives information'}\n",
    "my_dictionary['Book']"
   ]
  },
  {
   "cell_type": "code",
   "execution_count": null,
   "id": "8581222f-ce2c-4b40-9b1f-f021ec824ca9",
   "metadata": {},
   "outputs": [],
   "source": []
  }
 ],
 "metadata": {
  "kernelspec": {
   "display_name": "Python 3 (ipykernel)",
   "language": "python",
   "name": "python3"
  },
  "language_info": {
   "codemirror_mode": {
    "name": "ipython",
    "version": 3
   },
   "file_extension": ".py",
   "mimetype": "text/x-python",
   "name": "python",
   "nbconvert_exporter": "python",
   "pygments_lexer": "ipython3",
   "version": "3.12.3"
  }
 },
 "nbformat": 4,
 "nbformat_minor": 5
}
